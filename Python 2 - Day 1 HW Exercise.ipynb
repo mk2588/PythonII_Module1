{
 "cells": [
  {
   "cell_type": "markdown",
   "metadata": {},
   "source": [
    "# OOP - Class "
   ]
  },
  {
   "cell_type": "markdown",
   "metadata": {},
   "source": [
    "## Exercise 1: \n",
    "Create a Player class with a name, a position, and a speed attributes. Set the initial value of speed to 1 and create any necessary methods.\n",
    "Then, \n",
    "1. Create two Player objects and print information about both players.\n",
    "2. Assign 8 to player 1's speed\n",
    "3. print information about both players."
   ]
  },
  {
   "cell_type": "code",
   "execution_count": 1,
   "metadata": {},
   "outputs": [
    {
     "name": "stdout",
     "output_type": "stream",
     "text": [
      "Player 1 is Jessica, is at position 1, and their speed is 8\n",
      "Player 2 is Andrew, is at position 2, and their speed is 1\n"
     ]
    }
   ],
   "source": [
    "class Player:\n",
    "    \"\"\"Player class has name, position, and speed attributes\"\"\"\n",
    "    def __init__(self, name, position):\n",
    "        self.name = name\n",
    "        self.position = position\n",
    "        self.speed = 1\n",
    "\n",
    "Player1 = Player(\"Jessica\", 1)\n",
    "Player1.speed = 8\n",
    "Player2 = Player(\"Andrew\", 2)\n",
    "\n",
    "print(f\"Player 1 is {Player1.name}, is at position {Player1.position}, and their speed is {Player1.speed}\")\n",
    "print(f\"Player 2 is {Player2.name}, is at position {Player2.position}, and their speed is {Player2.speed}\")"
   ]
  },
  {
   "cell_type": "markdown",
   "metadata": {},
   "source": [
    "## Exercise 2: \n",
    "Create a class called Rectangle with height and length attributes and has following methods: \n",
    "- perimeter() : returns a perimeter of a rectangle object\n",
    "- area() : returns an area of a rectangle object\n",
    "\n",
    "Then,\n",
    "1. create two instances of Rectangle class\n",
    "2. print each rectangle's perimeter and determine which rectangle has larger perimeter\n",
    "3. print each rectangle's area and determine which rectangle has larger area"
   ]
  },
  {
   "cell_type": "code",
   "execution_count": 3,
   "metadata": {},
   "outputs": [
    {
     "name": "stdout",
     "output_type": "stream",
     "text": [
      "Rectangle 1 has a perimeter of 18\n",
      "Rectangle 1 has an area of 20\n",
      "Rectangle 2 has a perimeter of 32\n",
      "Rectangle 2 has an area of 60\n",
      "Rectangle 2 has a greater perimeter than Rectangle 1\n",
      "Rectangle 2 has a greater area than Rectangle 1\n"
     ]
    }
   ],
   "source": [
    "class Rectangle:\n",
    "    \"\"\"Rectangle class has height and length attributes\"\"\"\n",
    "    def __init__(self, height, length):\n",
    "        self.height = height\n",
    "        self.length = length\n",
    "    def perimeter(self):\n",
    "        return (2*self.height)+(2*self.length)\n",
    "    def area(self):\n",
    "        return (self.height * self.length)\n",
    "\n",
    "# Initialize two rectangle instances, then check each rectangle's perimeter & area\n",
    "Rectangle1 = Rectangle(4,5)\n",
    "p1 = Rectangle1.perimeter()\n",
    "a1 = Rectangle1.area()\n",
    "print(f\"Rectangle 1 has a perimeter of {p1}\")\n",
    "print(f\"Rectangle 1 has an area of {a1}\")\n",
    "Rectangle2 = Rectangle(6,10)\n",
    "p2 = Rectangle2.perimeter()\n",
    "a2 = Rectangle2.area()\n",
    "print(f\"Rectangle 2 has a perimeter of {p2}\")\n",
    "print(f\"Rectangle 2 has an area of {a2}\")\n",
    "\n",
    "if p1 > p2:\n",
    "    print(\"Rectangle 1 has a greater perimeter than Rectangle 2\")\n",
    "elif p2 > p1:\n",
    "    print(\"Rectangle 2 has a greater perimeter than Rectangle 1\")\n",
    "else:\n",
    "    print(\"Both rectangles have the same perimeter\")\n",
    "    \n",
    "if a1 > a2:\n",
    "    print(\"Rectangle 1 has a greater area than Rectangle 2\")\n",
    "elif a2 > a1:\n",
    "    print(\"Rectangle 2 has a greater area than Rectangle 1\")\n",
    "else:\n",
    "    print(\"Both rectangles have the same area\")"
   ]
  },
  {
   "cell_type": "markdown",
   "metadata": {},
   "source": [
    "## Exercise 3: \n",
    "Create a class called Triangle with height and base attributes and has following methods:\n",
    "\n",
    "- perimeter() : returns a perimeter of a right triangle object\n",
    "- area() : returns an area of a right triangle object\n",
    "\n",
    "Then,\n",
    "\n",
    "- create two instances of Triangle class\n",
    "- print each triangle's perimeter and determine which triangle has larger perimeter\n",
    "- print each triangle's area and determine which triangle has larger area\n",
    "\n",
    "Use \n",
    "- perimeter of a right triangle = height + base + Square-Root((height \\** 2) + (base \\** 2)) \n",
    "- area of a right triangle = ( height * base ) / 2\n",
    "\n",
    "You'll need to <b>import math</b> library and use <b>math.sqrt()</b> function.\n",
    "\n"
   ]
  },
  {
   "cell_type": "code",
   "execution_count": 4,
   "metadata": {},
   "outputs": [
    {
     "name": "stdout",
     "output_type": "stream",
     "text": [
      "Triangle 1 has a perimeter of 26.18\n",
      "Triangle 1 has an area of 25.0\n",
      "Triangle 2 has a perimeter of 10.47\n",
      "Triangle 2 has an area of 4.0\n",
      "Triangle 1 has a greater perimeter than Triangle 2\n",
      "Triangle 1 has a greater area than Triangle 2\n"
     ]
    }
   ],
   "source": [
    "import math as m\n",
    "class Triangle:\n",
    "    \"\"\"Triangle class has height and base attributes\"\"\"\n",
    "    def __init__(self, height, base):\n",
    "        self.height = height\n",
    "        self.base = base\n",
    "    def perimeter(self):\n",
    "        return round(self.height + self.base + m.sqrt((self.height ** 2) + self.base ** 2), 2)\n",
    "    def area(self):\n",
    "        return round((self.height * self.base) / 2, 2)\n",
    "    \n",
    "Triangle1 = Triangle(5,10)\n",
    "p1 = Triangle1.perimeter()\n",
    "a1 = Triangle1.area()\n",
    "print(f\"Triangle 1 has a perimeter of {p1}\")\n",
    "print(f\"Triangle 1 has an area of {a1}\")\n",
    "Triangle2 = Triangle(2,4)\n",
    "p2 = Triangle2.perimeter()\n",
    "a2 = Triangle2.area()\n",
    "print(f\"Triangle 2 has a perimeter of {p2}\")\n",
    "print(f\"Triangle 2 has an area of {a2}\")\n",
    "\n",
    "if p1 > p2:\n",
    "    print(\"Triangle 1 has a greater perimeter than Triangle 2\")\n",
    "elif p2 > p1:\n",
    "    print(\"Triangle 2 has a greater perimeter than Triangle 1\")\n",
    "else:\n",
    "    print(\"Both triangles have the same perimeter\")\n",
    "    \n",
    "if a1 > a2:\n",
    "    print(\"Triangle 1 has a greater area than Triangle 2\")\n",
    "elif a2 > a1:\n",
    "    print(\"Triangle 2 has a greater area than Triangle 1\")\n",
    "else:\n",
    "    print(\"Both triangles have the same area\")"
   ]
  },
  {
   "cell_type": "markdown",
   "metadata": {},
   "source": [
    "## Exercise 4: \n",
    "Write a program that maintains a list of movies, and the user can list all the movies, add a movie to the list, or delete a movie from the list. All input/output are done at the program level, not at a class level.\n",
    "\n",
    "\n",
    "For Python 1 Day 3 Challenge Exercise, you wrote a program that maintains a list of movies, and the user can list all the movies, add a movie to the list, or delete a movie from the list. Modify that program to use a <b>Movie object</b> to store name, year, and genre of a movie. Create any method you need to access these attributes but your method can not use <b>print</b> function. \n",
    "\n",
    "Additionally, create any function you need to make sure program neat. You may use <b>print</b> function in your function.\n"
   ]
  },
  {
   "cell_type": "code",
   "execution_count": 16,
   "metadata": {},
   "outputs": [
    {
     "name": "stdout",
     "output_type": "stream",
     "text": [
      "Command Menu\n",
      "list - list all movies\n",
      "add - add a movie\n",
      "delete - delete a movie\n",
      "exit - exit program\n"
     ]
    },
    {
     "name": "stdin",
     "output_type": "stream",
     "text": [
      "Command:  list\n"
     ]
    },
    {
     "name": "stdout",
     "output_type": "stream",
     "text": [
      "\n",
      "1. Toy Story is a Kids movie from 1995\n",
      "2. Finding Nemo is a Kids movie from 2003\n",
      "3. 007 is a Action movie from 1963\n",
      "\n",
      "Command Menu\n",
      "list - list all movies\n",
      "add - add a movie\n",
      "delete - delete a movie\n",
      "exit - exit program\n"
     ]
    },
    {
     "name": "stdin",
     "output_type": "stream",
     "text": [
      "Command:  add\n",
      "Name:  Spy Kids\n",
      "Year:  2001\n",
      "Genre:  Kids\n"
     ]
    },
    {
     "name": "stdout",
     "output_type": "stream",
     "text": [
      "Command Menu\n",
      "list - list all movies\n",
      "add - add a movie\n",
      "delete - delete a movie\n",
      "exit - exit program\n"
     ]
    },
    {
     "name": "stdin",
     "output_type": "stream",
     "text": [
      "Command:  list\n"
     ]
    },
    {
     "name": "stdout",
     "output_type": "stream",
     "text": [
      "\n",
      "1. Toy Story is a Kids movie from 1995\n",
      "2. Finding Nemo is a Kids movie from 2003\n",
      "3. 007 is a Action movie from 1963\n",
      "4. Spy Kids is a Kids movie from 2001\n",
      "\n",
      "Command Menu\n",
      "list - list all movies\n",
      "add - add a movie\n",
      "delete - delete a movie\n",
      "exit - exit program\n"
     ]
    },
    {
     "name": "stdin",
     "output_type": "stream",
     "text": [
      "Command:  delete\n",
      "Number:  4\n"
     ]
    },
    {
     "name": "stdout",
     "output_type": "stream",
     "text": [
      "Command Menu\n",
      "list - list all movies\n",
      "add - add a movie\n",
      "delete - delete a movie\n",
      "exit - exit program\n"
     ]
    },
    {
     "name": "stdin",
     "output_type": "stream",
     "text": [
      "Command:  list\n"
     ]
    },
    {
     "name": "stdout",
     "output_type": "stream",
     "text": [
      "\n",
      "1. Toy Story is a Kids movie from 1995\n",
      "2. Finding Nemo is a Kids movie from 2003\n",
      "3. 007 is a Action movie from 1963\n",
      "\n",
      "Command Menu\n",
      "list - list all movies\n",
      "add - add a movie\n",
      "delete - delete a movie\n",
      "exit - exit program\n"
     ]
    },
    {
     "name": "stdin",
     "output_type": "stream",
     "text": [
      "Command:  exit\n"
     ]
    }
   ],
   "source": [
    "class Movie:\n",
    "    \"\"\"Movie class has name, year, and genre attributes\"\"\"\n",
    "    def __init__(self, name, year, genre):\n",
    "        self.name = name\n",
    "        self.year = year\n",
    "        self.genre = genre\n",
    "    def get_info(self):\n",
    "        name = self.name\n",
    "        year = str(self.year)\n",
    "        genre = self.genre\n",
    "        return name + \" is a \" + genre + \" movie from \" + year\n",
    "\n",
    "class Movies: # when creating initialization method, make sure to create an attribute for a list\n",
    "    def __init__(self):\n",
    "        self.movie_list = []\n",
    "    def add(self, movie):\n",
    "        self.movie_list.append(movie)\n",
    "    def delete(self, index):\n",
    "        if index < 1 or index > len(my_movies.list()):\n",
    "            return None # lack of value, compiler moves on\n",
    "        else:\n",
    "            movie = self.movie_list.pop(index - 1)\n",
    "            return movie\n",
    "    def list(self):\n",
    "        msg = \"\"\n",
    "        index = 1 # for the number of movies\n",
    "        for movie in self.movie_list:\n",
    "            msg += str(index) + \". \" + movie.get_info() + \"\\n\"\n",
    "            index += 1\n",
    "        return msg\n",
    "\n",
    "# Main Program\n",
    "m1 = Movie(\"Toy Story\", 1995, \"Kids\")\n",
    "m2 = Movie(\"Finding Nemo\", 2003, \"Kids\")\n",
    "m3 = Movie(\"007\", 1963, \"Action\")\n",
    "\n",
    "my_movies = Movies()\n",
    "my_movies.add(m1)\n",
    "my_movies.add(m2)\n",
    "my_movies.add(m3)\n",
    "\n",
    "def display():\n",
    "    print(\"Command Menu\")\n",
    "    print(\"list - list all movies\")\n",
    "    print(\"add - add a movie\")\n",
    "    print(\"delete - delete a movie\")\n",
    "    print(\"exit - exit program\")\n",
    "    \n",
    "while True:\n",
    "    display()\n",
    "    command = input(\"Command: \")\n",
    "    if command == \"list\":\n",
    "        print(f\"\\n{my_movies.list()}\")\n",
    "    elif command == \"add\":\n",
    "        name = input(\"Name: \")\n",
    "        year = input(\"Year: \")\n",
    "        genre = input(\"Genre: \")\n",
    "        movie = Movie(name, year, genre)\n",
    "        my_movies.add(movie)\n",
    "    elif command == \"delete\":\n",
    "        choice = int(input(\"Number: \"))\n",
    "        my_movies.delete(choice)\n",
    "    elif command == \"exit\":\n",
    "        break"
   ]
  },
  {
   "cell_type": "code",
   "execution_count": null,
   "metadata": {},
   "outputs": [],
   "source": []
  },
  {
   "cell_type": "markdown",
   "metadata": {},
   "source": [
    "## Exercise 5: \n",
    "Create a class called Employee with \n",
    "- firstname,\n",
    "- lastname, \n",
    "- joined_date\n",
    "- active\n",
    "\n",
    "attributes and methods to retrieve each attribute.\n",
    "\n",
    "Then, write a program to \n",
    "- add 10 or more employees\n",
    "- print all employees' information\n",
    "- print all active employees' information\n",
    "\n",
    "Create any methods you need but all print statements should be called from your program, not in your class method!\n",
    "\n",
    "You must use below data set (but can add more):\n",
    "\n",
    "    data = [{\"first\":\"elmo\", \"last\":\"monster\", \"year\": 2000},\n",
    "            {\"first\":\"count\", \"last\":\"count\", \"year\": 1819},\n",
    "            {\"first\":\"big\", \"last\":\"bird\", \"year\": 2011},\n",
    "            {\"first\":\"cookie\", \"last\":\"monster\", \"year\": 2002},\n",
    "            {\"first\":\"bert\", \"last\": \"person\", \"year\": 2013},\n",
    "            {\"first\":\"ernie\", \"last\": \"person\", \"year\": 2013},\n",
    "            {\"first\":\"oscar\", \"last\": \"grouch\", \"year\": 1999},\n",
    "            {\"first\":\"zoe\", \"last\": \"cutie\", \"year\": 2015},\n",
    "            {\"first\":\"abby\", \"last\": \"cadabby\", \"year\": 2016},\n",
    "            {\"first\":\"prairie\", \"last\": \"dawn\", \"year\": 2020}\n",
    "       ]"
   ]
  },
  {
   "cell_type": "code",
   "execution_count": 20,
   "metadata": {},
   "outputs": [],
   "source": [
    "class Employee:\n",
    "    \"\"\"Employee class has firstname, lastname, joined_date, and active attributes\"\"\"\n",
    "    def __init__(self, firstname, lastname, joined_date, active):\n",
    "        self.firstname = firstname\n",
    "        self.lastname = lastname\n",
    "        self.joined_date = joined_date\n",
    "        self.active = active\n",
    "    def get_full_name(self):\n",
    "        return self.lastname + \", \" + self.firstname\n",
    "    def get_info(self):\n",
    "        return f\"{self.firstname}\\t\\t{self.lastname}\\t\\t{self.joined_date}\\t\\t{self.active}\""
   ]
  },
  {
   "cell_type": "code",
   "execution_count": 26,
   "metadata": {},
   "outputs": [
    {
     "name": "stdout",
     "output_type": "stream",
     "text": [
      "All Employees\n",
      "elmo\t\tmonster\t\t2000\t\t1\n",
      "count\t\tcount\t\t1819\t\t1\n",
      "big\t\tbird\t\t2011\t\t1\n",
      "cookie\t\tmonster\t\t2002\t\t0\n",
      "bert\t\tperson\t\t2013\t\t1\n",
      "ernie\t\tperson\t\t2013\t\t0\n",
      "oscar\t\tgrouch\t\t1999\t\t0\n",
      "zoe\t\tcutie\t\t2015\t\t1\n",
      "abby\t\tcadabby\t\t2016\t\t1\n",
      "prairie\t\tdawn\t\t2020\t\t0\n",
      "\n",
      "\n",
      "Active Employees\n",
      "elmo\t\tmonster\t\t2000\t\t1\n",
      "count\t\tcount\t\t1819\t\t1\n",
      "big\t\tbird\t\t2011\t\t1\n",
      "bert\t\tperson\t\t2013\t\t1\n",
      "zoe\t\tcutie\t\t2015\t\t1\n",
      "abby\t\tcadabby\t\t2016\t\t1\n"
     ]
    }
   ],
   "source": [
    "import random as r\n",
    "data = [{\"first\":\"elmo\", \"last\":\"monster\", \"year\": 2000},\n",
    "        {\"first\":\"count\", \"last\":\"count\", \"year\": 1819},\n",
    "        {\"first\":\"big\", \"last\":\"bird\", \"year\": 2011},\n",
    "        {\"first\":\"cookie\", \"last\":\"monster\", \"year\": 2002},\n",
    "        {\"first\":\"bert\", \"last\": \"person\", \"year\": 2013},\n",
    "        {\"first\":\"ernie\", \"last\": \"person\", \"year\": 2013},\n",
    "        {\"first\":\"oscar\", \"last\": \"grouch\", \"year\": 1999},\n",
    "        {\"first\":\"zoe\", \"last\": \"cutie\", \"year\": 2015},\n",
    "        {\"first\":\"abby\", \"last\": \"cadabby\", \"year\": 2016},\n",
    "        {\"first\":\"prairie\", \"last\": \"dawn\", \"year\": 2020}\n",
    "   ]\n",
    "\n",
    "all_employees = []\n",
    "\n",
    "# add 10+ employees\n",
    "for employee in data:\n",
    "    first = \"\"\n",
    "    last = \"\"\n",
    "    year = 0\n",
    "    \n",
    "    for key, value in employee.items():\n",
    "        if key == \"first\":\n",
    "            first = value\n",
    "        elif key == \"last\":\n",
    "            last = value\n",
    "        elif key == \"year\":\n",
    "            year = value\n",
    "        else:\n",
    "            print(\"Unknown key value\")\n",
    "    employee = Employee(first, last, year, r.randint(0,1))\n",
    "    all_employees.append(employee)\n",
    "    \n",
    "# print all employees' info\n",
    "print(\"All Employees\")\n",
    "for item in all_employees:\n",
    "    print(item.get_info())\n",
    "\n",
    "print(\"\\n\")\n",
    "\n",
    "print(\"Active Employees\")\n",
    "# list of active employees\n",
    "for item in all_employees:\n",
    "    if item.active: # same as saying if item.active == 1 or True\n",
    "        print(item.get_info())"
   ]
  },
  {
   "cell_type": "code",
   "execution_count": null,
   "metadata": {},
   "outputs": [],
   "source": []
  }
 ],
 "metadata": {
  "kernelspec": {
   "display_name": "Python 3",
   "language": "python",
   "name": "python3"
  },
  "language_info": {
   "codemirror_mode": {
    "name": "ipython",
    "version": 3
   },
   "file_extension": ".py",
   "mimetype": "text/x-python",
   "name": "python",
   "nbconvert_exporter": "python",
   "pygments_lexer": "ipython3",
   "version": "3.8.8"
  }
 },
 "nbformat": 4,
 "nbformat_minor": 4
}
